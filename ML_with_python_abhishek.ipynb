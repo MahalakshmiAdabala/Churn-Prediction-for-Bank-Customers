{
  "nbformat": 4,
  "nbformat_minor": 0,
  "metadata": {
    "colab": {
      "provenance": [],
      "authorship_tag": "ABX9TyOmqVe4ulG5+gzMBBNsCZef",
      "include_colab_link": true
    },
    "kernelspec": {
      "name": "python3",
      "display_name": "Python 3"
    },
    "language_info": {
      "name": "python"
    }
  },
  "cells": [
    {
      "cell_type": "markdown",
      "metadata": {
        "id": "view-in-github",
        "colab_type": "text"
      },
      "source": [
        "<a href=\"https://colab.research.google.com/github/MahalakshmiAdabala/Churn-Prediction-for-Bank-Customers/blob/main/ML_with_python_abhishek.ipynb\" target=\"_parent\"><img src=\"https://colab.research.google.com/assets/colab-badge.svg\" alt=\"Open In Colab\"/></a>"
      ]
    },
    {
      "cell_type": "code",
      "execution_count": 8,
      "metadata": {
        "colab": {
          "base_uri": "https://localhost:8080/"
        },
        "id": "XCPeFHfgzXCL",
        "outputId": "c5ae2e85-b3d6-4e6d-91cd-e9795709d2fd"
      },
      "outputs": [
        {
          "output_type": "execute_result",
          "data": {
            "text/plain": [
              "109"
            ]
          },
          "metadata": {},
          "execution_count": 8
        }
      ],
      "source": [
        "text1 = \"The Vikram Sarabhai Space Centre is a space research Centre of the ISRO, focused on rocket and space vehicles\"\n",
        "\n",
        "len(text1)"
      ]
    },
    {
      "cell_type": "code",
      "source": [
        "text2 = text1.split(\" \")\n",
        "\n",
        "len(text2)"
      ],
      "metadata": {
        "colab": {
          "base_uri": "https://localhost:8080/"
        },
        "id": "fIyseIUn3L1t",
        "outputId": "cd4dab55-6c2d-4280-fe88-a719fe1546d5"
      },
      "execution_count": 9,
      "outputs": [
        {
          "output_type": "execute_result",
          "data": {
            "text/plain": [
              "19"
            ]
          },
          "metadata": {},
          "execution_count": 9
        }
      ]
    },
    {
      "cell_type": "code",
      "source": [
        "text1.isdigit()"
      ],
      "metadata": {
        "colab": {
          "base_uri": "https://localhost:8080/"
        },
        "id": "Csztu-fU3TuW",
        "outputId": "c10d42f1-73bf-44b3-845c-bf835d94d364"
      },
      "execution_count": 10,
      "outputs": [
        {
          "output_type": "execute_result",
          "data": {
            "text/plain": [
              "False"
            ]
          },
          "metadata": {},
          "execution_count": 10
        }
      ]
    },
    {
      "cell_type": "code",
      "source": [
        "text1.isnumeric()"
      ],
      "metadata": {
        "colab": {
          "base_uri": "https://localhost:8080/"
        },
        "id": "7EGg2y1t8UB6",
        "outputId": "e7d72602-6d1c-46b9-b56c-4d4d95e0bb84"
      },
      "execution_count": 11,
      "outputs": [
        {
          "output_type": "execute_result",
          "data": {
            "text/plain": [
              "False"
            ]
          },
          "metadata": {},
          "execution_count": 11
        }
      ]
    },
    {
      "cell_type": "code",
      "source": [
        "import re\n",
        "text2 = \"This news article is published on month:Jan\"\n",
        "matchResult = re.search(r'month:\\w\\w\\w',text2)\n",
        "if matchResult:\n",
        "  print('Pattern exists ', matchResult.group())\n",
        "else:\n",
        "  print('Pattern not exists')"
      ],
      "metadata": {
        "colab": {
          "base_uri": "https://localhost:8080/"
        },
        "id": "kE6IhrkP8gkQ",
        "outputId": "eb1fc15d-2cfe-4d0a-e6e8-6a2e94893132"
      },
      "execution_count": 15,
      "outputs": [
        {
          "output_type": "stream",
          "name": "stdout",
          "text": [
            "Pattern exists  month:Jan\n"
          ]
        }
      ]
    },
    {
      "cell_type": "code",
      "source": [],
      "metadata": {
        "id": "6JmoXMEg-fbk"
      },
      "execution_count": null,
      "outputs": []
    }
  ]
}